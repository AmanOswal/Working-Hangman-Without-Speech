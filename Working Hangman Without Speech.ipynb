{
 "cells": [
  {
   "cell_type": "code",
   "execution_count": 81,
   "metadata": {},
   "outputs": [],
   "source": [
    "from tkinter import *\n",
    "from tkinter import messagebox\n",
    "from PIL import ImageTk, Image\n",
    "from tkinter.messagebox import *\n",
    "import speech_recognition as sr\n",
    "import pyaudio\n",
    "from collections import defaultdict"
   ]
  },
  {
   "cell_type": "code",
   "execution_count": 82,
   "metadata": {},
   "outputs": [
    {
     "name": "stdout",
     "output_type": "stream",
     "text": [
      "C:\\Users\\aman\\Desktop\\Python-Tkinter-FrameWork-master\\Python-Tkinter-FrameWork-master\\hangman\n"
     ]
    }
   ],
   "source": [
    "cd \"C:\\Users\\aman\\Desktop\\Python-Tkinter-FrameWork-master\\Python-Tkinter-FrameWork-master\\hangman\""
   ]
  },
  {
   "cell_type": "code",
   "execution_count": 83,
   "metadata": {},
   "outputs": [],
   "source": [
    "window = Tk()\n",
    "window.title(\"Ready to Hang!! If you don't find the word less than 4 chances\")\n",
    "window.geometry(\"1000x700\")\n",
    "chances=4;\n",
    "image_paths=['hang.jpg','img4.png','img3.png','img2.png','img1.jpg']\n",
    "img = Image.open(image_paths[chances])\n",
    "img = img.resize((200, 200), Image.ANTIALIAS)\n",
    "img= ImageTk.PhotoImage(img)\n",
    "panel = Label(window, image = img)\n",
    "panel.grid(column=0, row=0)\n",
    "answer_arr=[]"
   ]
  },
  {
   "cell_type": "code",
   "execution_count": 84,
   "metadata": {},
   "outputs": [],
   "source": [
    "import random\n",
    "from words import word_list\n",
    "\n",
    "def get_word():\n",
    "    word = random.choice(word_list)\n",
    "    return word.upper()"
   ]
  },
  {
   "cell_type": "code",
   "execution_count": 85,
   "metadata": {},
   "outputs": [],
   "source": [
    "#Generating Buttons\n",
    "word = get_word()\n",
    "l = len(word)\n",
    "d = defaultdict(list)\n",
    "for i in range(1,l+1):\n",
    "#     x = \"btn0\"+str(i)   \n",
    "#     exec(\"%s = %d\" % (x,0))\n",
    "    d[i].append(Button(window, text=\" \",bg=\"white\", fg=\"Black\",width=3,height=1,font=('Helvetica','20')))\n",
    "#     vars()[x] = Button(window, text=\" \",bg=\"white\", fg=\"Black\",width=3,height=1,font=('Helvetica','20'))\n",
    "    d[i][0].grid(column=i+1, row=0)"
   ]
  },
  {
   "cell_type": "code",
   "execution_count": 86,
   "metadata": {},
   "outputs": [],
   "source": [
    "word_completion = \"_\" * len(word)\n",
    "guessed = False\n",
    "guessed_letters = []\n",
    "guessed_words = []\n",
    "def callback(sv):\n",
    "    global chances\n",
    "    global guessed\n",
    "    global word_completion\n",
    "    guess = num0.get().upper()\n",
    "    num1.delete(0, \"end\")\n",
    "    num1.insert(0, guess)\n",
    "    num2.delete(0, \"end\")\n",
    "    num0.delete(0, \"end\")\n",
    "#     print(guess)\n",
    "    if len(guess) == 1 and guess.isalpha():\n",
    "        if guess in guessed_letters:\n",
    "            num2.insert(0, \"Already a guessed letter. Speak a new letter\")\n",
    "        elif guess not in word:\n",
    "            k = str(guess) + \" is not in the word.\"\n",
    "            num2.insert(0, k)\n",
    "            chances = chances - 1;\n",
    "            txt=\"Chances remaining \"+str(chances);\n",
    "            label1.configure(text=txt)\n",
    "            image = Image.open(image_paths[chances])\n",
    "            image = image.resize((200, 200), Image.ANTIALIAS)\n",
    "            imgnew = ImageTk.PhotoImage(image)\n",
    "            panel.configure(image=imgnew)\n",
    "            panel.image = imgnew\n",
    "            guessed_letters.append(guess)\n",
    "        else:\n",
    "            k = \"Good job, \" + str(guess) + \" is in the word!\"\n",
    "            num2.insert(0, k)\n",
    "            #Finding indices of the matched characters\n",
    "            for i in range(0,l):\n",
    "                if(word[i] == guess):\n",
    "                    d[i+1][0][\"text\"] = guess\n",
    "#                     x = \"btn0\"+str(i+1)   \n",
    "#                     global x\n",
    "#                     vars()[x][\"text\"] = guess\n",
    "            guessed_letters.append(guess)\n",
    "            word_as_list = list(word_completion)\n",
    "            indices = [i for i, letter in enumerate(word) if letter == guess]\n",
    "            for index in indices:\n",
    "                word_as_list[index] = guess\n",
    "            word_completion = \"\".join(word_as_list)\n",
    "            if \"_\" not in word_completion:\n",
    "                guessed = True\n",
    "    else:\n",
    "        num2.insert(0, \"Not a valid guess.\")\n",
    "    if guessed:\n",
    "        messagebox.showinfo(title = \"Congrats\", message = \"You guessed the word! You win!\")\n",
    "#         window.destroy()\n",
    "    elif(chances<=0):\n",
    "        messagebox.showinfo(title = \"Hanged!!!!!\", message = \"Correct word:\"+str(word))\n",
    "#         messagebox.showinfo(\"Loose to guessed the word \"+str(guess)+\" Hanged!!!!!\")\n",
    "        num0.delete(0, \"end\")\n",
    "#         window.destroy()\n",
    "\n",
    "\n",
    "num1 = Entry(window, width = 25)\n",
    "Label(window, text = \"Your Input\").grid(row=10)\n",
    "num1.grid(row=10, column=1)\n",
    "\n",
    "num2 = Entry(window, width = 25)\n",
    "Label(window, text = \"System Response\").grid(row=11)\n",
    "num2.grid(row=11, column=1)\n",
    "\n",
    "label1=Label(window,text=\"Total Chances are : 5\")\n",
    "label1.grid(row=5,column=0)\n",
    "sv = StringVar()\n",
    "sv.trace(\"w\", lambda name, index, mode, sv=sv: callback(sv))\n",
    "num0 = Entry(window, width = 25, textvariable=sv)\n",
    "Label(window, text = \"Please input\").grid(row=9)\n",
    "num0.grid(row=9, column=1)\n",
    "# e = Entry(window)\n",
    "# e.pack()\n",
    "window.mainloop() "
   ]
  },
  {
   "cell_type": "code",
   "execution_count": null,
   "metadata": {},
   "outputs": [],
   "source": []
  }
 ],
 "metadata": {
  "kernelspec": {
   "display_name": "Python 3",
   "language": "python",
   "name": "python3"
  },
  "language_info": {
   "codemirror_mode": {
    "name": "ipython",
    "version": 3
   },
   "file_extension": ".py",
   "mimetype": "text/x-python",
   "name": "python",
   "nbconvert_exporter": "python",
   "pygments_lexer": "ipython3",
   "version": "3.7.6"
  }
 },
 "nbformat": 4,
 "nbformat_minor": 4
}
